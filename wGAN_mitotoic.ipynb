{
 "cells": [
  {
   "cell_type": "markdown",
   "metadata": {},
   "source": [
    "## Synthetic Image Generation Model For Class \"MITOTIC\"\n",
    "To achieve our primary objective of creating a balanced multi-label dataset for human pluripotent stem cells (hPSCs), we adapt the base model by incorporating prior knowledge and class weights through transfer learning performed on each label in the dataset. As a result, 5 different GAN models are trained according to the 5 labels of our main dataset. Pre-trained parameters are loaded to initialize these 5 models which are subsequently retrained using randomize input images corresponding to their respective labels. Each model generates 500 synthetic images using the fine-tuned weights and biases. We hypothesize that fine-tuning will result in generating images that align with the distinct characteristics of each class. This notebook is dedicated to generate synthetic images for the class \"Mitotoic\". It starts with importing necessary libraries. Second step is defining the same generator and discriminator classes as the base model with the same architectures. Then next step is defining the data transformation and the directory that contains the original images. Then we create a new directory to save the generated images. After that we initializing the Generator and we load the pre-trained weights. Then we creatw a new model with the current architecture. Then we transfer weights from the pretrained model to the new model. To finsih we define a method to generate images and save those images based on their classes with the specified output directory."
   ]
  },
  {
   "cell_type": "code",
   "execution_count": 1,
   "metadata": {},
   "outputs": [],
   "source": [
    "import torch\n",
    "import torch.nn as nn\n",
    "import torch.optim as optim\n",
    "from torchvision import datasets, transforms\n",
    "from torch.utils.data import DataLoader, Dataset\n",
    "from PIL import Image, ImageEnhance\n",
    "import os\n",
    "from torchvision.utils import save_image"
   ]
  },
  {
   "cell_type": "code",
   "execution_count": 2,
   "metadata": {},
   "outputs": [],
   "source": [
    "class Generator(nn.Module):\n",
    "    def __init__(self, latent_dim=100, image_channels=3, image_size=64):\n",
    "        super(Generator, self).__init__()\n",
    "        self.latent_dim = latent_dim\n",
    "        self.image_channels = image_channels\n",
    "        self.image_size = image_size\n",
    "\n",
    "        self.main = nn.Sequential(\n",
    "            nn.ConvTranspose2d(latent_dim, 256, 4, 1, 0, bias=False),\n",
    "            nn.BatchNorm2d(256),\n",
    "            nn.ReLU(True),\n",
    "            nn.ConvTranspose2d(256, 128, 4, 2, 1, bias=False),\n",
    "            nn.BatchNorm2d(128),\n",
    "            nn.ReLU(True),\n",
    "            nn.ConvTranspose2d(128, 64, 4, 2, 1, bias=False),\n",
    "            nn.BatchNorm2d(64),\n",
    "            nn.ReLU(True),\n",
    "            nn.ConvTranspose2d(64, image_channels, 4, 2, 1, bias=False),\n",
    "            nn.Tanh()\n",
    "        )\n",
    "\n",
    "    def forward(self, x):\n",
    "        return self.main(x)"
   ]
  },
  {
   "cell_type": "code",
   "execution_count": 3,
   "metadata": {},
   "outputs": [],
   "source": [
    "class Discriminator(nn.Module):\n",
    "    def __init__(self, image_channels=3, image_size=64):\n",
    "        super(Discriminator, self).__init__()\n",
    "        self.image_channels = image_channels\n",
    "        self.image_size = image_size\n",
    "\n",
    "        self.main = nn.Sequential(\n",
    "            nn.Conv2d(image_channels, 64, 4, 2, 1, bias=False),\n",
    "            nn.LeakyReLU(0.2, inplace=True),\n",
    "            nn.Conv2d(64, 128, 4, 2, 1, bias=False),\n",
    "            nn.BatchNorm2d(128),\n",
    "            nn.LeakyReLU(0.2, inplace=True),\n",
    "            nn.Conv2d(128, 256, 4, 2, 1, bias=False),\n",
    "            nn.BatchNorm2d(256),\n",
    "            nn.LeakyReLU(0.2, inplace=True),\n",
    "            nn.Conv2d(256, 1, 4, 1, 0, bias=False)\n",
    "        )\n",
    "\n",
    "    def forward(self, x):\n",
    "        output = self.main(x)\n",
    "        return output.view(-1, 1).squeeze(1)"
   ]
  },
  {
   "cell_type": "code",
   "execution_count": 4,
   "metadata": {},
   "outputs": [
    {
     "name": "stdout",
     "output_type": "stream",
     "text": [
      "Ignoring unexpected key: generator\n",
      "Ignoring unexpected key: discriminator\n",
      "Ignoring unexpected key: optimizer_G\n",
      "Ignoring unexpected key: optimizer_D\n"
     ]
    }
   ],
   "source": [
    "transform = transforms.Compose([\n",
    "    transforms.Resize((64, 64)),\n",
    "    transforms.ToTensor(),\n",
    "    transforms.Normalize((0.5, 0.5, 0.5), (0.5, 0.5, 0.5)),\n",
    "])\n",
    "\n",
    "input_image_directory = \"/Users/isikgurhan/Desktop/data-jpg/iPSC_Morphologies/mitotic\"\n",
    "\n",
    "output_image_directory = \"/Users/isikgurhan/Desktop/data-jpg/iPSC_Morphologies/generated_images_mitotic\"\n",
    "os.makedirs(output_image_directory, exist_ok=True)\n",
    "\n",
    "generator = Generator(latent_dim=100, image_channels=3, image_size=64)\n",
    "\n",
    "pretrained_generator_path = \"/Users/isikgurhan/best_gan_weights.pth\"\n",
    "pretrained_dict = torch.load(pretrained_generator_path)\n",
    "\n",
    "generator = Generator(latent_dim=100, image_channels=3, image_size=64)\n",
    "\n",
    "model_dict = generator.state_dict()\n",
    "for name, param in pretrained_dict.items():\n",
    "    if name in model_dict:\n",
    "        if \"main\" in name:\n",
    "            if \"num_batches_tracked\" not in name:\n",
    "                print(f\"Transferring weights for layer: {name}\")\n",
    "                print(f\"Original weight shape: {param.shape}\")\n",
    "\n",
    "                if \"fc\" in name:\n",
    "                    model_fc_weight_shape = model_dict[name].shape\n",
    "                    if model_fc_weight_shape != param.shape:\n",
    "                        print(f\"FC layer shape mismatch. Pretrained shape: {param.shape}, Model shape: {model_fc_weight_shape}\")\n",
    "                    else:\n",
    "                        model_dict[name].copy_(param)\n",
    "                elif \"main.0\" in name:\n",
    "                    target_shape = model_dict[name].shape\n",
    "                    param_reshaped = param.view(target_shape)\n",
    "                    model_dict[name].copy_(param_reshaped)\n",
    "                elif \"main.3\" in name:\n",
    "                    target_shape = model_dict[name].shape\n",
    "                    param_reshaped = param.view(target_shape)\n",
    "                    model_dict[name].copy_(param_reshaped)\n",
    "                elif \"main.6\" in name:\n",
    "                    target_shape = model_dict[name].shape\n",
    "                    param_reshaped = param.view(target_shape)\n",
    "                    model_dict[name].copy_(param_reshaped)\n",
    "                else:\n",
    "                    model_dict[name].copy_(param)\n",
    "    else:\n",
    "        print(f\"Ignoring unexpected key: {name}\")"
   ]
  },
  {
   "cell_type": "code",
   "execution_count": 5,
   "metadata": {},
   "outputs": [],
   "source": [
    "def generate_images(generator, num_images, latent_dim, output_dir):\n",
    "    generator.eval()\n",
    "    with torch.no_grad():\n",
    "        for i in range(num_images):\n",
    "            z = torch.randn(1, latent_dim, 1, 1)\n",
    "            fake_image = generator(z)\n",
    "            save_image(fake_image, os.path.join(output_dir, f\"image_mitotoic{i+1}.png\"))\n",
    "\n",
    "num_generated_images = 500\n",
    "generate_images(generator, num_generated_images, latent_dim=100, output_dir=output_image_directory)\n"
   ]
  },
  {
   "cell_type": "code",
   "execution_count": null,
   "metadata": {},
   "outputs": [],
   "source": []
  }
 ],
 "metadata": {
  "kernelspec": {
   "display_name": "Python 3",
   "language": "python",
   "name": "python3"
  },
  "language_info": {
   "codemirror_mode": {
    "name": "ipython",
    "version": 3
   },
   "file_extension": ".py",
   "mimetype": "text/x-python",
   "name": "python",
   "nbconvert_exporter": "python",
   "pygments_lexer": "ipython3",
   "version": "3.8.3"
  }
 },
 "nbformat": 4,
 "nbformat_minor": 4
}
